{
  "nbformat": 4,
  "nbformat_minor": 0,
  "metadata": {
    "colab": {
      "name": "LinearProgrammingPython.ipynb",
      "provenance": []
    },
    "kernelspec": {
      "name": "python3",
      "display_name": "Python 3"
    }
  },
  "cells": [
    {
      "cell_type": "markdown",
      "metadata": {
        "id": "vjSEzfYjDcXK"
      },
      "source": [
        "# Linear Programming with Gurobi in Python\n",
        "\n",
        "Shows how to solve using python and Gurobipy the following standar linear programming problems \n",
        "\n",
        "$$\n",
        "\\begin{align}\n",
        "\\underset{x}{\\min} \\quad & c^Tx \\\\\n",
        "\\text{s.t.} \\quad & Ax \\leq b\\\\\n",
        " & l \\leq x \\leq u\\\n",
        "\\end{align}\n",
        "$$\n",
        "\n",
        "where $x\\in\\mathbb{R}^n$, $c\\in\\mathbb{R}^n$, $l\\in\\mathbb{R}^n$, $u\\in\\mathbb{R}^n$, $A\\in\\mathbb{R}^{m\\times n}$, $b\\in\\mathbb{R}^m$. Elements of $A,b,c,l,u$ are randomly generating using normal or uniform distributions."
      ]
    },
    {
      "cell_type": "markdown",
      "metadata": {
        "id": "Iv9DqQ2XSRj7"
      },
      "source": [
        "## Requirements\n",
        "IMPORTANT NOTE: Run this before the rest of the cells."
      ]
    },
    {
      "cell_type": "code",
      "metadata": {
        "id": "tFpa-JQbR-tv"
      },
      "source": [
        "!pip install -q gurobipy\n",
        "import time\n",
        "import numpy as np\n",
        "import gurobipy as gp\n",
        "from gurobipy import GRB"
      ],
      "execution_count": 2,
      "outputs": []
    },
    {
      "cell_type": "markdown",
      "metadata": {
        "id": "BT3FQmJt_gin"
      },
      "source": [
        "## Create random vectors and matrix of linear problem"
      ]
    },
    {
      "cell_type": "code",
      "metadata": {
        "id": "P5Areoe857kc"
      },
      "source": [
        "# Number of variables (nvar) and constraints (ncon)\n",
        "nvar = 1000\n",
        "ncon = 200\n",
        "# Random vectors and matrix of linear problem\n",
        "c = np.random.normal(0,1,size=nvar)\n",
        "A = np.random.normal(0,5,size=(ncon,nvar))\n",
        "b = np.random.uniform(0,30,ncon)\n",
        "u = np.random.uniform(10,20,nvar)\n",
        "l = np.random.uniform(0,10,nvar)"
      ],
      "execution_count": 3,
      "outputs": []
    },
    {
      "cell_type": "markdown",
      "metadata": {
        "id": "gz3UJ2RL8JXj"
      },
      "source": [
        "## GUROBIPY ([link](https://pypi.org/project/gurobipy/))"
      ]
    },
    {
      "cell_type": "markdown",
      "metadata": {
        "id": "dKek1lmV9u3M"
      },
      "source": [
        "### Matrix notation"
      ]
    },
    {
      "cell_type": "code",
      "metadata": {
        "colab": {
          "base_uri": "https://localhost:8080/",
          "height": 0
        },
        "id": "psmH_Hxe8azS",
        "outputId": "c4cb6fca-15fa-41ba-e42b-51fe5f14e13b"
      },
      "source": [
        " start = time.time()\n",
        " # Model\n",
        " m = gp.Model()\n",
        " # Variables\n",
        " x = m.addMVar(shape=nvar,lb=l,ub=u,vtype=GRB.CONTINUOUS)\n",
        " # Objective function\n",
        " m.setObjective(c @ x, GRB.MINIMIZE)\n",
        " # Constraints\n",
        " m.addConstr(A @ x <= b)\n",
        " # Solve the problem\n",
        " m.optimize()\n",
        " # Print results\n",
        " print('obj =',m.ObjVal)\n",
        " print('time =',time.time()-start)\n"
      ],
      "execution_count": 4,
      "outputs": [
        {
          "output_type": "stream",
          "name": "stdout",
          "text": [
            "Restricted license - for non-production use only - expires 2023-10-25\n",
            "Gurobi Optimizer version 9.5.2 build v9.5.2rc0 (linux64)\n",
            "Thread count: 1 physical cores, 2 logical processors, using up to 2 threads\n",
            "Optimize a model with 200 rows, 1000 columns and 200000 nonzeros\n",
            "Model fingerprint: 0x7ac76de4\n",
            "Coefficient statistics:\n",
            "  Matrix range     [3e-06, 2e+01]\n",
            "  Objective range  [6e-05, 4e+00]\n",
            "  Bounds range     [3e-04, 2e+01]\n",
            "  RHS range        [9e-02, 3e+01]\n",
            "Presolve time: 0.06s\n",
            "Presolved: 200 rows, 1000 columns, 200000 nonzeros\n",
            "\n",
            "Iteration    Objective       Primal Inf.    Dual Inf.      Time\n",
            "       0   -1.4150110e+06   3.807878e+07   0.000000e+00      0s\n",
            "     369   -1.9070601e+03   0.000000e+00   0.000000e+00      0s\n",
            "\n",
            "Solved in 369 iterations and 0.13 seconds (0.17 work units)\n",
            "Optimal objective -1.907060128e+03\n",
            "obj = -1907.0601275292913\n",
            "time = 0.18552279472351074\n"
          ]
        }
      ]
    },
    {
      "cell_type": "markdown",
      "metadata": {
        "id": "NILiAkus_Dbj"
      },
      "source": [
        "**bold text**### Constraint notation"
      ]
    },
    {
      "cell_type": "code",
      "metadata": {
        "colab": {
          "base_uri": "https://localhost:8080/"
        },
        "id": "UjrIQ56H-F26",
        "outputId": "45a11c59-369c-4608-9319-42c74693ca5d"
      },
      "source": [
        "start = time.time()\n",
        "# Model\n",
        "m = gp.Model()\n",
        "# Variables\n",
        "x = m.addVars(nvar,lb=l,ub=u,vtype=GRB.CONTINUOUS)\n",
        "# Objective function\n",
        "m.setObjective(gp.LinExpr(c,x.values()),GRB.MINIMIZE)\n",
        "# Constraints\n",
        "m.addConstrs((gp.LinExpr(A[j,:],x.values()) <= b[j] for j in range(ncon)))\n",
        "# Solve the problem\n",
        "m.optimize()\n",
        "# Print results\n",
        "print('obj = ',m.ObjVal)\n",
        "print('time =',time.time()-start)"
      ],
      "execution_count": null,
      "outputs": [
        {
          "output_type": "stream",
          "text": [
            "Gurobi Optimizer version 9.1.2 build v9.1.2rc0 (linux64)\n",
            "Thread count: 1 physical cores, 2 logical processors, using up to 2 threads\n",
            "Optimize a model with 200 rows, 1000 columns and 200000 nonzeros\n",
            "Model fingerprint: 0x180fd1dc\n",
            "Coefficient statistics:\n",
            "  Matrix range     [8e-05, 2e+01]\n",
            "  Objective range  [4e-04, 4e+00]\n",
            "  Bounds range     [3e-03, 2e+01]\n",
            "  RHS range        [5e-02, 3e+01]\n",
            "Presolve time: 0.10s\n",
            "Presolved: 200 rows, 1000 columns, 200000 nonzeros\n",
            "\n",
            "Iteration    Objective       Primal Inf.    Dual Inf.      Time\n",
            "       0   -1.4296535e+06   7.927222e+06   0.000000e+00      0s\n",
            "     549   -1.9319535e+03   0.000000e+00   0.000000e+00      0s\n",
            "\n",
            "Solved in 549 iterations and 0.26 seconds\n",
            "Optimal objective -1.931953488e+03\n",
            "obj =  -1931.9534884057082\n",
            "time = 0.48479795455932617\n"
          ],
          "name": "stdout"
        }
      ]
    },
    {
      "cell_type": "markdown",
      "source": [
        "# **Modelado de batería con Gurobi**\n",
        "\n",
        "Ejemplo real de modelo de un problema de optimización con Gurobipy. Se programa el modelo de una batería. Está basado en el paper https://arxiv.org/abs/2204.08240"
      ],
      "metadata": {
        "id": "fo9KTDlRpqlu"
      }
    },
    {
      "cell_type": "code",
      "source": [
        "start = time.time()  # Inicia cronómetro\n",
        "\n",
        "# Constants\n",
        "E_min = 0.7\n",
        "E_max = 2\n",
        "E_0 = 1.5\n",
        "P_max_c = 0.8\n",
        "P_max_d = 1\n",
        "eta_c = 0.85\n",
        "eta_d = 0.9\n",
        "\n",
        "p_sig = - 0.5  # Señal de batería. Positivo es descarga\n",
        "\n",
        "# Model\n",
        "m = gp.Model()\n",
        "\n",
        "# Variables\n",
        "e = m.addVar(vtype=GRB.CONTINUOUS, lb=E_min, ub=E_max, name='e')\n",
        "p_c = m.addVar(vtype=GRB.CONTINUOUS, lb=0, name='p_c')\n",
        "p_d = m.addVar(vtype=GRB.CONTINUOUS, lb=0, name='p_d')\n",
        "z = m.addVar(vtype=GRB.BINARY, name='z')\n",
        "\n",
        "# Objective function\n",
        "m.setObjective(((p_d - p_c) - p_sig) ** 2, GRB.MINIMIZE)\n",
        "\n",
        "# Constraints\n",
        "m.addConstr(e - eta_c * p_c + 1 / eta_d * p_d == E_0)\n",
        "m.addConstr(p_d <= P_max_d * z)\n",
        "m.addConstr(p_c <= P_max_c * (1 -z))\n",
        "\n",
        "# Solve the problem\n",
        "m.optimize()\n",
        "\n",
        "# Print results\n",
        "print('time =',time.time()-start)\n",
        "print('obj = ',m.ObjVal)\n",
        "for v in m.getVars():\n",
        "  print(str(v.VarName) + \"=\" + str(round(v.x, 2)))\n",
        "\n"
      ],
      "metadata": {
        "colab": {
          "base_uri": "https://localhost:8080/"
        },
        "id": "zNFltjGjp__E",
        "outputId": "5347dd2f-16ff-4e19-bed8-617061962bd0"
      },
      "execution_count": 12,
      "outputs": [
        {
          "output_type": "stream",
          "name": "stdout",
          "text": [
            "Gurobi Optimizer version 9.5.2 build v9.5.2rc0 (linux64)\n",
            "Thread count: 1 physical cores, 2 logical processors, using up to 2 threads\n",
            "Optimize a model with 3 rows, 4 columns and 7 nonzeros\n",
            "Model fingerprint: 0xd98144a4\n",
            "Model has 3 quadratic objective terms\n",
            "Variable types: 3 continuous, 1 integer (1 binary)\n",
            "Coefficient statistics:\n",
            "  Matrix range     [8e-01, 1e+00]\n",
            "  Objective range  [1e+00, 1e+00]\n",
            "  QObjective range [2e+00, 4e+00]\n",
            "  Bounds range     [7e-01, 2e+00]\n",
            "  RHS range        [8e-01, 2e+00]\n",
            "Presolve removed 1 rows and 1 columns\n",
            "Presolve time: 0.00s\n",
            "Presolved: 2 rows, 3 columns, 4 nonzeros\n",
            "Presolved model has 3 quadratic objective terms\n",
            "Variable types: 2 continuous, 1 integer (1 binary)\n",
            "Found heuristic solution: objective 0.0000000\n",
            "\n",
            "Root relaxation: cutoff, 2 iterations, 0.00 seconds (0.00 work units)\n",
            "\n",
            "    Nodes    |    Current Node    |     Objective Bounds      |     Work\n",
            " Expl Unexpl |  Obj  Depth IntInf | Incumbent    BestBd   Gap | It/Node Time\n",
            "\n",
            "     0     0     cutoff    0         0.00000    0.00000  0.00%     -    0s\n",
            "\n",
            "Explored 1 nodes (2 simplex iterations) in 0.03 seconds (0.00 work units)\n",
            "Thread count was 2 (of 2 available processors)\n",
            "\n",
            "Solution count 1: 0 \n",
            "\n",
            "Optimal solution found (tolerance 1.00e-04)\n",
            "Best objective 0.000000000000e+00, best bound 0.000000000000e+00, gap 0.0000%\n",
            "time = 0.04646611213684082\n",
            "obj =  0.0\n",
            "e=1.93\n",
            "p_c=0.5\n",
            "p_d=0.0\n",
            "z=-0.0\n"
          ]
        }
      ]
    }
  ]
}